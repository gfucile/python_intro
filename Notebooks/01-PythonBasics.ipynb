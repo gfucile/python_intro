{
 "cells": [
  {
   "cell_type": "markdown",
   "metadata": {},
   "source": [
    "# Your First Jupyter Notebook\n",
    "\n",
    "This cell renders Markdown code to text. You can change the cell's type with the drop-down menu in the menu bar.\n",
    "\n",
    "You can format Python code (or other languages) within Markdown text using backticks. \n",
    "\n",
    "Double-click the cell to enter edit mode. \n",
    "\n",
    "Shift-Enter will \"execute\" the cell's code.\n",
    "\n",
    "```python\n",
    "greetings = \"Hello, world!\"\n",
    "```\n",
    "\n",
    "During the course, feel free to add to the existing cells and create new cells. The explanations and subsequent discussion are not presented exahustively here. You should customize your notes as you wish, provided it results in a clear record of everything we worked on. \n",
    "\n",
    "You can always download this notebook again, but it's probably a good moment to **make a copy**."
   ]
  },
  {
   "cell_type": "code",
   "execution_count": null,
   "metadata": {
    "collapsed": true
   },
   "outputs": [],
   "source": [
    "greetings = \"Hello, world!\"\n",
    "print(greetings)"
   ]
  },
  {
   "cell_type": "markdown",
   "metadata": {},
   "source": [
    "# Configuring Jupyter - Working Directory\n",
    "\n",
    "The easiest solution to starting Jupyter Notebook in a particular working directory:\n",
    "\n",
    "* open a terminal (Anaconda Prompt in Windows, or Unix-type shell) and change to the directory of interest\n",
    "* execute `jupyter notebook`\n",
    "\n",
    "Alternatively you can create and use a config file. Open a shell or command prompt (cmd in Windows) and type:\n",
    "    \n",
    "    jupyter notebook --generate-config\n",
    "    \n",
    "This will create a configuration file. On Windows this normally lives at: \n",
    "\n",
    "    C:\\Users\\<username>\\.jupyter\\jupyter_notebook_config\n",
    "\n",
    "And on Unix-type machines this normally lives at:\n",
    "\n",
    "    ~/.jupyter/jupyter_notebook_config.py\n",
    "\n",
    "Find the following line (usually 179):\n",
    "\n",
    "    #c.NotebookApp.notebook_dir = ''\n",
    "\n",
    "And change this to:\n",
    "\n",
    "    c.NotebookApp.notebook_dir = '<your_path>'\n",
    "\n",
    "Be sure to use forward slashes in your path.\n",
    "\n",
    "Yet another approach is to use a Python module called \"OS\" (more on modules later):\n",
    "\n",
    "    import os\n",
    "    os.chdir('<your_path>')"
   ]
  },
  {
   "cell_type": "markdown",
   "metadata": {},
   "source": [
    "# Configuring Jupyter - Default Browser\n",
    "\n",
    "If you prefer a specific browser for use with Jupyter Notebook, you can add the path to the browser executable/App in the config file as per above. \n",
    "\n",
    "The relevant line you are looking for is:\n",
    "\n",
    "    c.NotebookApp.browser\n",
    "    \n",
    "On OSX, you could use the following to switch to Chrome:\n",
    "\n",
    "    c.NotebookApp.browser = u'open -a /Applications/Google\\ Chrome.app %s'\n",
    "    \n",
    "Otherwise just set the path to the executable of your favourite browser."
   ]
  },
  {
   "cell_type": "markdown",
   "metadata": {},
   "source": [
    "# Conda Notes - envs and packages\n",
    "\n",
    "It should go without saying - *read the docs!*\n",
    "\n",
    "https://conda.io/docs/user-guide"
   ]
  },
  {
   "cell_type": "markdown",
   "metadata": {},
   "source": [
    "## Managing environments\n",
    "\n",
    "Before creating any new environments, it is a good idea to install the [nb_conda_kernels](https://github.com/Anaconda-Platform/nb_conda_kernels) module. This will automatically add any new Python conda environments (or other Jupyter-compatible kernels) to your Jupyter Notebook sessions:\n",
    "\n",
    "    conda install nb_conda_kernels\n",
    "\n",
    "Creating an environment with a specific version of Python:\n",
    "\n",
    "    conda create --name myenv python=2.7.11\n",
    "    \n",
    "To avoid any potential conflicts between modules, it is good practice to build the environment with all the modules you will need at the same time. *eg:*\n",
    "\n",
    "    conda create --name myenv python=3.4 numpy scipy matplotlib pandas scikit-learn\n",
    "\n",
    "Which environments are installed?\n",
    "\n",
    "    conda info --envs\n",
    "    \n",
    "Which packages are installed?\n",
    "\n",
    "    conda list --name myenv\n",
    "    \n",
    "Activating and deactivating an environment (Windows):\n",
    "\n",
    "    # from the Anaconda Prompt\n",
    "    activate myenv\n",
    "    deactivate\n",
    "    \n",
    "Activating and deactivating an environment (Unix-type):\n",
    "\n",
    "    source activate myenv\n",
    "    source deactivate"
   ]
  },
  {
   "cell_type": "markdown",
   "metadata": {},
   "source": [
    "## Installing modules/packages\n",
    "\n",
    "There are two package managers associated with Python - conda (bundled with Anaconda) and pip. Generally they play nicely together. The pseudo-consensus seems to be to use conda for Python-only packages. Some packages which require compilation (thus a clear picture of which other library dependencies are on your computer) are better installed with pip.\n",
    "\n",
    "    conda install mypkg\n",
    "    pip install mypkg"
   ]
  },
  {
   "cell_type": "code",
   "execution_count": null,
   "metadata": {
    "collapsed": true
   },
   "outputs": [],
   "source": [
    "# https://github.com/conda/conda/issues/8197\n",
    "conda config --set channel_priority strict"
   ]
  },
  {
   "cell_type": "markdown",
   "metadata": {},
   "source": [
    "# Data and Container Types\n",
    "\n",
    "Python uses essentially the same data and container types as other programming languages. The basic types include:\n",
    "\n",
    "* `bool` - the boolean constants `True` and `False`\n",
    "* `int` - integer numbers, 1, -8, etc\n",
    "* `float` - double-precision floating point numbers, \n",
    "* `str` - text, strings of byte-size characters\n",
    "* `list` - a \"mutable\" list of Python \"objects\"\n",
    "* `dict` - a dictionary of \"key\" and \"value\" pairs\n",
    "* `set` - a \"unique\" set of elements\n",
    "* `tuple` - an \"immutable\" list of Python objects\n",
    "\n",
    "Lists, tuples, and dicts are data containers/structures for storing data of various types. These are essential in Python, and we'll spend quite some time working with them.\n",
    "\n",
    "Everything in Python is an \"object\". We will continue to discuss what this means in the context of \"object-oriented programming\"."
   ]
  },
  {
   "cell_type": "markdown",
   "metadata": {},
   "source": [
    "# Operators\n",
    "\n",
    "There are several types of operators in Python, including arithmetic, comparison, assignment, logical, and a few other special cases.\n",
    "\n",
    "## Arithmetic\n",
    "\n",
    "* +\n",
    "* -\n",
    "* `*`\n",
    "* /\n",
    "* `**`\n",
    "* % (modulus, or the remainder)\n",
    "\n",
    "\n",
    "## Comparison\n",
    "\n",
    "* ==\n",
    "* !=\n",
    "* >\n",
    "* <\n",
    "* `>=`\n",
    "* `<=`\n",
    "\n",
    "\n",
    "## Assignment\n",
    "\n",
    "* =\n",
    "* +=\n",
    "* -=\n",
    "* `*=`\n",
    "* /=\n",
    "* `**=`\n",
    "* %=\n",
    "\n",
    "\n",
    "## Logical and Others\n",
    "\n",
    "* and\n",
    "* or\n",
    "* is\n",
    "* is not\n",
    "* in\n",
    "* not in\n",
    "* % (string formatting context)\n",
    "* :\n",
    "* #\n"
   ]
  },
  {
   "cell_type": "code",
   "execution_count": null,
   "metadata": {
    "collapsed": true
   },
   "outputs": [],
   "source": [
    "0.1 + 0.2 == 0.3"
   ]
  },
  {
   "cell_type": "code",
   "execution_count": null,
   "metadata": {
    "collapsed": true
   },
   "outputs": [],
   "source": [
    "0.1 + 0.2"
   ]
  },
  {
   "cell_type": "code",
   "execution_count": null,
   "metadata": {
    "collapsed": true
   },
   "outputs": [],
   "source": [
    "\"hello\" == 'hello'"
   ]
  },
  {
   "cell_type": "markdown",
   "metadata": {},
   "source": [
    "# Strings\n",
    "\n",
    "Strings are sequences of characters (letters, digits, spaces, special characters). Strings should be surrounded with double or single quotation marks. Usually double quotation marks are used, more on this later when we discuss style and \"Pythonic\" code.\n",
    "\n",
    "Strings are particularly relevant for biology - we often find ourselves trying to **interpret** and **parse** the output of a particular piece of software, and potentially modify the output to a format specific to our needs/questions.\n",
    "\n",
    "```python\n",
    "myGeneSeq = \"ATGCGACTGATCGATCGATCGATCGATGATCGATCGATCGATGCTAGCTAC\"\n",
    "\n",
    "myString = \"Hoi zaeme\"\n",
    "\n",
    "myPhrase = \"He's dead, Jim\"\n",
    "```\n",
    "\n",
    "Multi-line strings can be delimited by three quotes:\n",
    "\n",
    "```python\n",
    "MontyPy = \"\"\"Let me tell you something, my lad. \n",
    "When you’re walking home tonight and some great \n",
    "homicidal maniac comes after you with a bunch \n",
    "of loganberries, don’t come crying to me!\"\"\"\n",
    "```\n",
    "\n",
    "Strings can be combined using the + operator:\n",
    "\n",
    "```python\n",
    "myPhrase = \"This \" + \"is \" + \"really \" + \"happening\"\n",
    "```\n",
    "\n",
    "\n",
    "Strings are often formatted with the special % operator:\n",
    "\n",
    "```python\n",
    "\"This is day %d of %d of your first %s course\" % (1, 2, \"Python\")\n",
    "```\n",
    "\n"
   ]
  },
  {
   "cell_type": "markdown",
   "metadata": {},
   "source": [
    "## String Literals\n",
    "\n",
    "These are sometimes referred to as special characters. For example, tabs and newlines. How these special characters are encoded depends on the operating system and a number of other factors. Sometimes this can cause problems, particularly with newline characters. To access these special characters, you typically use the backslash character to \"escape\" the character which would otherwise have a different meaning. \n",
    "```python\n",
    "print(\"tab\" + \"\\t\" + \"delimited\")\n",
    "print(\"Let's put a newline\" + \"\\n\" + \"in between\")\n",
    "```"
   ]
  },
  {
   "cell_type": "code",
   "execution_count": null,
   "metadata": {
    "collapsed": true
   },
   "outputs": [],
   "source": [
    "print(\"Let's put a newline\" + \"\\n\" + \"in between\")"
   ]
  },
  {
   "cell_type": "code",
   "execution_count": null,
   "metadata": {
    "collapsed": true
   },
   "outputs": [],
   "source": [
    "print(\"tab\" + \"\\t\" + \"delimited\")"
   ]
  },
  {
   "cell_type": "code",
   "execution_count": null,
   "metadata": {
    "collapsed": true
   },
   "outputs": [],
   "source": [
    "greeting = \"I want to print some quotes \\\"\\\" \"\n",
    "print(greeting)"
   ]
  },
  {
   "cell_type": "markdown",
   "metadata": {},
   "source": [
    "# Functions\n",
    "\n",
    "Functions **encapsulate** a sequence of commands or operations. \"Arguments\" can be supplied to functions, usually in the form of variable objects which the function acts upon.\n",
    "\n",
    "A function is executed by calling it by name, followed by round brackets wherein the arguments are supplied.\n",
    "\n",
    "```python\n",
    "print(111111111*111111111)\n",
    "```\n",
    "\n",
    "equivalent to:\n",
    "\n",
    "```python\n",
    "a = 111111111\n",
    "b = 111111111\n",
    "print(a*b)\n",
    "```\n",
    "\n",
    "The most important Python function:\n",
    "\n",
    "```python\n",
    "help(max)\n",
    "```"
   ]
  },
  {
   "cell_type": "markdown",
   "metadata": {},
   "source": [
    "## Python Built-in Functions (as of v3.6, https://docs.python.org/3/library/functions.html):\n",
    "\n",
    "abs()\tdict()\thelp()\tmin()\tsetattr()\n",
    "all()\tdir()\thex()\tnext()\tslice()\n",
    "any()\tdivmod()\tid()\tobject()\tsorted()\n",
    "ascii()\tenumerate()\tinput()\toct()\tstaticmethod()\n",
    "bin()\teval()\tint()\topen()\tstr()\n",
    "bool()\texec()\tisinstance()\tord()\tsum()\n",
    "bytearray()\tfilter()\tissubclass()\tpow()\tsuper()\n",
    "bytes()\tfloat()\titer()\tprint()\ttuple()\n",
    "callable()\tformat()\tlen()\tproperty()\ttype()\n",
    "chr()\tfrozenset()\tlist()\trange()\tvars()\n",
    "classmethod()\tgetattr()\tlocals()\trepr()\tzip()\n",
    "compile()\tglobals()\tmap()\treversed()\t__import__()\n",
    "complex()\thasattr()\tmax()\tround()\n",
    "delattr()\thash()\tmemoryview()\tset()"
   ]
  },
  {
   "cell_type": "markdown",
   "metadata": {},
   "source": [
    "## Building your own functions\n",
    "\n",
    "Of course, you will often want to define your own functions. \n",
    "\n",
    "```python\n",
    "def greeting(name):\n",
    "\n",
    "    print(\"Hello %s\" % name)\n",
    "```\n",
    "\n",
    "The function starts with the `def` statement. The colon operator (`:`) is used to indicate the start of the **\"block\"** of code belonging to the function. Code blocks are **delimited by spaces or indentation** - this is essential in Python. Regardless of whether you use four spaces or a tab, it is important to be consistent!\n",
    "\n",
    "After you've defined your function, you can call it like all other functions in Python:\n",
    "\n",
    "```python\n",
    "greeting(\"Jim Bob\")\n",
    "```\n",
    "\n",
    "It is good practice to document your functions. You can do this by adding a \"docstring\" at the start of your function definition:\n",
    "\n",
    "```python\n",
    "def greeting(name):\n",
    "\n",
    "    \"\"\"\n",
    "    This function greets you by name, because you not-so-secretly love hearing it.\n",
    "    \"\"\"\n",
    "    \n",
    "    print(\"Hello %s\" % name)\n",
    "\n",
    "help(greeting)\n",
    "```\n",
    "\n",
    "Results of a function can be returned as an object using the `return()` function:\n",
    "\n",
    "```python\n",
    "def greeting(name):\n",
    "\n",
    "    \"\"\"\n",
    "    This function returns your greeting by name, because you not-so-secretly love hearing it.\n",
    "    \"\"\"\n",
    "    \n",
    "    return(\"Hello %s\" % name)\n",
    "\n",
    "myGreeting = greeting(\"Jim Bob\")\n",
    "\n",
    "print(myGreeting)\n",
    "```"
   ]
  },
  {
   "cell_type": "code",
   "execution_count": null,
   "metadata": {
    "collapsed": true
   },
   "outputs": [],
   "source": [
    "def greeting(name):\n",
    "\n",
    "    \"\"\"\n",
    "    This function greets you by name, because you not-so-secretly love hearing it.\n",
    "    \"\"\"\n",
    "\n",
    "    print(\"Hello %s\" % name)\n",
    "\n",
    "help(greeting)"
   ]
  },
  {
   "cell_type": "code",
   "execution_count": null,
   "metadata": {
    "collapsed": true
   },
   "outputs": [],
   "source": [
    "def readData(..):\n",
    "    ...\n",
    "    \n",
    "def calculations(...):\n",
    "    ...\n",
    "    \n",
    "def writeReport(...):\n",
    "    ...\n",
    "    \n",
    "    \n",
    "myData = readData(path2data)\n",
    "myResults = calculations(myData)\n",
    "writeReport(myResults)\n"
   ]
  },
  {
   "cell_type": "markdown",
   "metadata": {},
   "source": [
    "# Object Types - Strings and Numerical\n",
    "\n",
    "What happens if we try to print the following?\n",
    "\n",
    "```python\n",
    "print(\"The sum of 1 + 2 equals \" + (1+2))\n",
    "```\n",
    "\n",
    "How do we determine the type of a Python object?\n",
    "\n",
    "How can we \"coerce\" object types?"
   ]
  },
  {
   "cell_type": "code",
   "execution_count": null,
   "metadata": {
    "collapsed": true
   },
   "outputs": [],
   "source": [
    "print(\"The sum of 1 + 2 equals \" + str(1+2))"
   ]
  },
  {
   "cell_type": "code",
   "execution_count": null,
   "metadata": {
    "collapsed": true
   },
   "outputs": [],
   "source": [
    "print(1 + \"somestring\")"
   ]
  },
  {
   "cell_type": "markdown",
   "metadata": {},
   "source": [
    "# Exercise 1\n",
    "\n",
    "Write a function that accepts two (short) DNA sequences, a name for the sequence, and prints the FASTA formatted version of the two sequences concatenated together. Include the length of the concatenated DNA sequence in the fasta header."
   ]
  },
  {
   "cell_type": "markdown",
   "metadata": {},
   "source": [
    "# Methods\n",
    "\n",
    "Methods are a special case of functions - they can be applied to only certain \"classes\" of objects.\n",
    "\n",
    "We can determine the methods available for a particular object class using `dir()`\n",
    "\n",
    "```python\n",
    "geneFrag1 = \"ATGCTCGACTAGCTACGACTAGCATCCGCGAGCGATCAGCT\"\n",
    "dir(geneFrag1)\n",
    "```\n",
    "\n",
    "Hmm, count() seems like it could be useful! Let's apply this method to our DNA sequence.\n",
    "\n",
    "```python\n",
    "geneFrag1 = \"ATGCTCGACTAGCTACGACTAGCATCCGCGAGCGATCAGCT\"\n",
    "geneFrag1.count(\"A\")\n",
    "```\n",
    "\n",
    "The syntax for methods are slightly different - they are connected/attached to an object using the dot notation."
   ]
  },
  {
   "cell_type": "markdown",
   "metadata": {},
   "source": [
    "# Exercise 2\n",
    "\n",
    "Write a function that accepts a DNA sequence as an argument and returns the %GC content of the sequence."
   ]
  },
  {
   "cell_type": "markdown",
   "metadata": {},
   "source": [
    "# Exercise 3\n",
    "\n",
    "Use the find() method to determine the position(s) of the motif \"CTCGA\":\n",
    "    \n",
    "GTGCCCCTCGAGAGGAGGGCGCGCGCCGCGCGCTCGACGCGATCGGCGCTCAGCGAGCGAGCTCCTCGAAGCGATCCGCGCGCGCT\n",
    "\n",
    "What is a limitation here?"
   ]
  },
  {
   "cell_type": "markdown",
   "metadata": {},
   "source": [
    "# Exercise 4\n",
    "\n",
    "Use the replace() method to create the complement of the above sequence."
   ]
  },
  {
   "cell_type": "markdown",
   "metadata": {},
   "source": [
    "# Lists\n",
    "\n",
    "Lists can be created and modified in a few ways:\n",
    "\n",
    "```python\n",
    "plants = [\"Solanum lycopersicum\",\"Solanum melongena\",\"Solanum tuberosum\"]\n",
    "\n",
    "print(plants[0])\n",
    "\n",
    "print(plants[(len(plants)-1)])\n",
    "\n",
    "plants.append(\"Capsicum chinense\")\n",
    "\n",
    "print(plants[(len(plants)-1)])\n",
    "```\n",
    "\n",
    "Strings can also be coerced to lists:\n",
    "\n",
    "```python\n",
    "word = \"supercalifragilisticexpialidocious\"\n",
    "\n",
    "word_as_list = list(word)\n",
    "\n",
    "print(word_as_list[0:5])\n",
    "```\n",
    "\n"
   ]
  },
  {
   "cell_type": "markdown",
   "metadata": {},
   "source": [
    "## List subsetting/slicing\n",
    "\n",
    "You saw in the above example how to return a subset of a lists using indices enclosed in square brackets `[]`. You can also reassign list elements in this way:\n",
    "\n",
    "```python\n",
    "word = \"supercalifragilisticexpialidocious\"\n",
    "\n",
    "word_as_list = list(word)\n",
    "\n",
    "word_as_list[0] = 'd'\n",
    "\n",
    "print(word_as_list[0:5])\n",
    "\n",
    "print(word_as_list[-7:])\n",
    "```\n",
    "\n",
    "Lists are referred to as \"mutable\" because we can modify or \"mutate\" them.\n",
    "\n",
    "\n"
   ]
  },
  {
   "cell_type": "markdown",
   "metadata": {},
   "source": [
    "# Three-argument subsetting of lists\n",
    "\n",
    "```python\n",
    "seq = \"ATGCTCAGCTGTACGATCGTAGCA\"\n",
    "\n",
    "print(seq[::3])\n",
    "print(seq[::-1])\n",
    "\n",
    "```"
   ]
  },
  {
   "cell_type": "markdown",
   "metadata": {},
   "source": [
    "## Other useful list-related methods\n",
    "\n",
    "Another very handy way to generate lists is by \"splitting\" a string or other data.\n",
    "\n",
    "```python\n",
    "wordy = \"\"\"Dans l'attente de votre réponse, je vous prie d'agréer, \n",
    "Madame, Monsieur, l'expression de nos sentiments distingués\"\"\"\n",
    "\n",
    "wordyList = wordy.split()\n",
    "\n",
    "print(wordyList)\n",
    "```\n",
    "\n",
    "By default (without arguments) the split method will use any whitespace as a delimiter. You can also specify any arbitrary delimiter. To split a string into every character, simply coerce it with `list()`\n",
    "\n",
    "Several methods work \"in place\", meaning they don't return a value and simply apply the modification to the object they are attached to. For example:\n",
    "\n",
    "```python\n",
    "plants = [\"Solanum lycopersicum\",\"Solanum melongena\",\"Solanum tuberosum\"]\n",
    "plants.pop()\n",
    "print(plants)\n",
    "```\n",
    "\n",
    "VS\n",
    "\n",
    "```python\n",
    "seq1_lower = \"atcg\"\n",
    "seq1_upper = seq1.upper()\n",
    "print(seq1_upper)\n",
    "```\n",
    "\n",
    "\n",
    "### What other methods apply to lists?"
   ]
  },
  {
   "cell_type": "markdown",
   "metadata": {},
   "source": [
    "# Exercise 5\n",
    "\n",
    "Print a tab-delimited output of the species in the following list (hint, use the join method):\n",
    "    \n",
    "```python\n",
    "plants = [\"Solanum lycopersicum\",\"Solanum melongena\",\"Solanum tuberosum\"]\n",
    "```"
   ]
  },
  {
   "cell_type": "markdown",
   "metadata": {},
   "source": [
    "# Exercise 6\n",
    "\n",
    "Write a function that returns the reverse complement of the following sequence:\n",
    "    \n",
    "GTGCCCCTCGAGAGGAGGGCGCGCGCCGCGCGCTCGACGCGATCGGCGCTCAGCGAGCGAGCTCCTCGAAGCGATCCGCGCGCGCT"
   ]
  },
  {
   "cell_type": "markdown",
   "metadata": {},
   "source": [
    "# Sets\n",
    "\n",
    "Sets are similar to lists, however they store **unique** elements.\n",
    "\n",
    "```python\n",
    "nameSet = set([\"Larry\",\"Mo\",\"Curly\",\"Larry\",\"Mo\",\"Curly\"])\n",
    "\n",
    "print(nameSet)\n",
    "```\n",
    "\n",
    "Note the difference in syntax, with the square braces within the round braces. This reflects one of the common applications of sets, which is to derive the unique elements of a list.\n",
    "\n",
    "```python\n",
    "nameList = [\"Larry\",\"Mo\",\"Curly\",\"Larry\",\"Mo\",\"Curly\"]\n",
    "\n",
    "nameSet = set(nameList)\n",
    "\n",
    "print(nameSet)\n",
    "```"
   ]
  },
  {
   "cell_type": "markdown",
   "metadata": {},
   "source": [
    "**How can we add an element to a set?**"
   ]
  },
  {
   "cell_type": "markdown",
   "metadata": {},
   "source": [
    "# Dictionaries\n",
    "\n",
    "This class of data container is very useful for storing **\"paired data\"**. Consider, for example:\n",
    "\n",
    "* gene or protein names and the corresponding sequence(s)\n",
    "* gene or protein names and the corresponding annotation(s)\n",
    "* restriction enzymes and their motifs\n",
    "* etc\n",
    "\n",
    "These are examples of **\"key-value pairs\"**. Normally the key is something akin to a name, and the value is some data that is paired to the key/name.\n",
    "\n",
    "```python\n",
    "enzymes = { 'EcoRI':'GAATTC', 'AvaII':'GG(A|T)CC', 'BisI':'GC[ATGC]GC' }\n",
    "\n",
    "enzymes = {\n",
    "    'EcoRI' : 'GAATTC',\n",
    "    'AvaII' : 'GG(A|T)CC',\n",
    "    'BisI'  : 'GC[ATGC]GC'\n",
    "}\n",
    "\n",
    "print(enzymes['EcoRI'])\n",
    "```\n",
    "\n",
    "This is similar to how we access data in lists, although instead of using an integer index we reference by key.\n",
    "\n",
    "What happens if we try to access a non-existent key-value pair?\n",
    "\n",
    "```python\n",
    "print(enzymes['XbaI'])\n",
    "```\n",
    "\n",
    "There are a few ways to deal with this situation:\n",
    "\n",
    "```python\n",
    "if 'XbaI' in enzymes:\n",
    "    print(enzymes['XbaI'])\n",
    "    \n",
    "else:\n",
    "    print(\"RE does not exist in dict\")\n",
    "```\n",
    "\n",
    "```python\n",
    "print(enzymes.get('EcoRI', \"NA\"))\n",
    "print(enzymes.get('XbaI', \"NA\"))\n",
    "```"
   ]
  },
  {
   "cell_type": "markdown",
   "metadata": {},
   "source": [
    "**What other useful methods apply to dicts?**"
   ]
  },
  {
   "cell_type": "markdown",
   "metadata": {},
   "source": [
    "# Control Flow\n",
    "\n",
    "There are several ways to control the flow of your code using logical statements. Above you saw how to implement a simple `if`/`else` control flow. You can add additional conditions using `elif`:\n",
    "\n",
    "```python\n",
    "if 'XbaI' in enzymes:\n",
    "    print(enzymes['XbaI'])\n",
    "    \n",
    "elif 'EcoRI' in enzymes:\n",
    "    print(enzymes['EcoRI'])\n",
    "    \n",
    "else:\n",
    "    print(\"Couldn't find your RE\")\n",
    "```"
   ]
  },
  {
   "cell_type": "markdown",
   "metadata": {},
   "source": [
    "## What is returned from the following code snippets?\n",
    "\n",
    "* ```python\n",
    "1000 is 10**3\n",
    "```\n",
    "* ```python\n",
    "1000==10**3\n",
    "```\n",
    "* ```python\n",
    "print(1000!=3)\n",
    "```\n",
    "* ```python\n",
    "1000==10**3 and 1000 < 1001\n",
    "```"
   ]
  },
  {
   "cell_type": "markdown",
   "metadata": {},
   "source": [
    "# Loops\n",
    "\n",
    "Now that you have a sense of the common data types and containers at your disposal in Python, we will learn how to efficiently **populate** and work with these structures.\n",
    "\n",
    "If you ever find yourself in the following situation, you're doing it wrong:\n",
    "\n",
    "```python\n",
    "enzymes = {\n",
    "    'EcoRI' : 'GAATTC',\n",
    "    'AvaII' : 'GG(A|T)CC',\n",
    "    'BisI'  : 'GC[ATGC]GC'\n",
    "}\n",
    "\n",
    "print(enzymes['EcoRI'])\n",
    "print(enzymes['AvaII'])\n",
    "print(enzymes['BisI'])\n",
    "```"
   ]
  },
  {
   "cell_type": "markdown",
   "metadata": {},
   "source": [
    "## Iteration with for loops\n",
    "\n",
    "```python\n",
    "for name in enzymes:\n",
    "    print(name + \"\\t\" + enzymes[name])\n",
    "```\n",
    "\n",
    "\n",
    "```python\n",
    "mySeq = 'GTGCCCCTCGAGAGGAGGGCGCGCGCCGCGCGCTCGACGCGATCGGCGCTCAGCGAGCGAGCTCCTCGAAGCGATCCGCGCGCGCT'\n",
    "\n",
    "for char in mySeq:\n",
    "    print(char)\n",
    "```\n",
    "\n",
    "**How can one iterate over the values of a dict?**"
   ]
  },
  {
   "cell_type": "markdown",
   "metadata": {},
   "source": [
    "When iterating over lists, one often encounters \"list comprehensions\". These are just another syntax of for loops which generate a list. Consider the following equivalent approaches:"
   ]
  },
  {
   "cell_type": "code",
   "execution_count": null,
   "metadata": {
    "collapsed": true
   },
   "outputs": [],
   "source": [
    "dna_list = ['TAGC', 'ACGTATGC', 'ATG', 'ACGGCTAG']\n",
    "\n",
    "# generate a list of lengths using procedural code\n",
    "lengths = []\n",
    "for dna in dna_list:\n",
    "    lengths.append(len(dna))\n",
    "print(lengths)"
   ]
  },
  {
   "cell_type": "code",
   "execution_count": null,
   "metadata": {
    "collapsed": true
   },
   "outputs": [],
   "source": [
    "# do the same with a list comprehension\n",
    "lengths = [len(dna) for dna in dna_list]\n",
    "print(lengths)"
   ]
  },
  {
   "cell_type": "code",
   "execution_count": null,
   "metadata": {
    "collapsed": true
   },
   "outputs": [],
   "source": [
    "# do the same with map()\n",
    "lengths = map(len, dna_list)\n",
    "print(type(lengths))\n",
    "print(list(lengths))"
   ]
  },
  {
   "cell_type": "markdown",
   "metadata": {},
   "source": [
    "## Iterating over sorted dictionaries\n",
    "\n",
    "Dictionary key-value pairs are ordered in a way that is meaningful to human interpretation. However, we can sort dictionaries by keys and then retrieve the associated values in a particular order:\n",
    "\n",
    "```python\n",
    "SortedKeys = sorted(enzymes.keys())\n",
    "```\n",
    "\n",
    "We can then loop over the sorted keys using (we don't need to write the .keys()):\n",
    "\n",
    "```python\n",
    "for EnzymeName in SortedKeys:\n",
    "    print EnzymeName, enzymes[EnzymeName]\n",
    "```\n",
    "\n",
    "To get a list containing sorted values we do:\n",
    "\n",
    "```python\n",
    "SortedValues = sorted(enzymes.values())\n",
    "```\n",
    "\n",
    "If we need the key-value pairs sorted by values it is a bit more complicated (we'll come back to lambda functions later):\n",
    "\n",
    "```python\n",
    "SortedValuesAsPairs = sorted(enzymes.items(), key=lambda x: x[1])\n",
    "```\n",
    "\n",
    "Again we are getting back a list.\n",
    "\n",
    "The sorting order can be changed using the reverse=True parameter."
   ]
  },
  {
   "cell_type": "markdown",
   "metadata": {},
   "source": [
    "## Iteration with while loops\n",
    "\n",
    "```python\n",
    "x = 10\n",
    "y = 1\n",
    "\n",
    "while y < x:\n",
    "\n",
    "    print(y)\n",
    "    y += 1\n",
    "```\n",
    "\n",
    "**Be sure to include a condition that ends your while loop**. What happens if you don't?\n",
    "\n",
    "```python\n",
    "x = range(100)\n",
    "y = 1\n",
    "\n",
    "while y < max(x):\n",
    "\n",
    "    y += 1\n",
    "\n",
    "print(y)\n",
    "```\n",
    "\n",
    "Other ways to alter code flow through loops include `break` and `continue`:\n",
    "\n",
    "```python\n",
    "x = range(100)\n",
    "y = 1\n",
    "\n",
    "while y < max(x):\n",
    "\n",
    "    y = y*2\n",
    "\n",
    "    if y > 50:\n",
    "        break\n",
    "    \n",
    "    else:\n",
    "        continue\n",
    "\n",
    "print(y)\n",
    "```"
   ]
  },
  {
   "cell_type": "markdown",
   "metadata": {},
   "source": [
    "**What other arguments can be supplied to `range()`?**"
   ]
  },
  {
   "cell_type": "markdown",
   "metadata": {},
   "source": [
    "# Iterable Objects\n",
    "\n",
    "This is an important concept for \"functional programming\". Formally, iterable objects in Python have the `__iter__` or `__get_item__` method which return an iterator. The latter object has the `__next__` method, which allows you to efficiently loop through the elements of the object. \n",
    "\n",
    ";tldr An iterable can be called using the following form:\n",
    "\n",
    "```python\n",
    "for element in iterable:\n",
    "    # do something with element\n",
    "```\n",
    "\n",
    "Iterable objects include strings, lists, dicts, tuples, sets, ranges, etc. You can read more about this topic here: https://docs.python.org/dev/howto/functional.html#functional-howto-iterators"
   ]
  },
  {
   "cell_type": "markdown",
   "metadata": {},
   "source": [
    "# Exercise 7\n",
    "\n",
    "From the following DNA sequence, return a 5-mer sequence using a sliding window of 4 bases:\n",
    "\n",
    "`ACGATCGATGCATGCTAGCTAGTTTATATGCGAGGCGATGCTAGTGATCGCGAGCGTACGCTAGCTAGTCGATGCCGGATCGAGCGTCGAT`"
   ]
  },
  {
   "cell_type": "markdown",
   "metadata": {},
   "source": [
    "# Exercise 8\n",
    "\n",
    "Write a function that iterates over a DNA sequence and counts and reports the frequency of each base."
   ]
  },
  {
   "cell_type": "markdown",
   "metadata": {},
   "source": [
    "# Modules\n",
    "\n",
    "Almost everything you'll want to do with Python has already been implemented by someone else. Many workflows have been developed into **modules** which can be **imported** into your Python session.\n",
    "\n",
    "Check out: https://pypi.org\n",
    "\n",
    "There are quite a few methods which come bundled with basic Python installations. Additional modules can be installed to your (environment-specific) library using Anaconda, or from the command line using `conda` or `pip`. **It is not advisable to mix `conda` and `pip` within one Python environment.**\n",
    "\n",
    "```python\n",
    "import this\n",
    "```"
   ]
  },
  {
   "cell_type": "code",
   "execution_count": null,
   "metadata": {
    "collapsed": true
   },
   "outputs": [],
   "source": [
    "import sys"
   ]
  },
  {
   "cell_type": "code",
   "execution_count": null,
   "metadata": {
    "collapsed": true
   },
   "outputs": [],
   "source": [
    "import os"
   ]
  },
  {
   "cell_type": "code",
   "execution_count": null,
   "metadata": {
    "collapsed": true
   },
   "outputs": [],
   "source": [
    "print(type(os))"
   ]
  },
  {
   "cell_type": "code",
   "execution_count": null,
   "metadata": {
    "collapsed": true
   },
   "outputs": [],
   "source": [
    "print(os.getcwd())"
   ]
  },
  {
   "cell_type": "code",
   "execution_count": null,
   "metadata": {
    "collapsed": true
   },
   "outputs": [],
   "source": [
    "0.1 + 0.2"
   ]
  },
  {
   "cell_type": "code",
   "execution_count": null,
   "metadata": {
    "collapsed": true
   },
   "outputs": [],
   "source": [
    "varA = 0.1 + 0.2\n",
    "varB = 0.3\n",
    "varA == varB"
   ]
  },
  {
   "cell_type": "code",
   "execution_count": null,
   "metadata": {
    "collapsed": true
   },
   "outputs": [],
   "source": [
    "import math\n",
    "    \n",
    "math.isclose(varA, varB, abs_tol=0.01)"
   ]
  },
  {
   "cell_type": "code",
   "execution_count": null,
   "metadata": {
    "collapsed": true
   },
   "outputs": [],
   "source": [
    "import this"
   ]
  },
  {
   "cell_type": "markdown",
   "metadata": {},
   "source": [
    "**Any Python code can be imported, so you can also write your own library of methods!**\n",
    "\n",
    "https://docs.python.org/3/tutorial/modules.html"
   ]
  },
  {
   "cell_type": "markdown",
   "metadata": {},
   "source": [
    "# Exercise 9\n",
    "\n",
    "Write a module which includes a function to generate the reverse complement of a DNA sequence. Import the module into your Jupyter Notebook session and generate the reverse complement of the following sequence:\n",
    "\n",
    "`GCCACCCGTAGCTGGGGCGTAGCTAGTGTCGAGGCGAGCGGCGGCAGTCGATGCTAGCCTAGCATGCTGCTAGTGATAAAAAAATTTGG`"
   ]
  },
  {
   "cell_type": "markdown",
   "metadata": {},
   "source": [
    "# Nested Data Structures\n",
    "\n",
    "Dictionaries can store lists, lists can store dictionaries, dictionaries can store dictionaries, and lists can store lists! Basically, you can flexibly \"nest\" your data structures. This requires some careful thought regarding design.\n",
    "\n",
    "```python\n",
    "nest1 = { \"A\":[0,1,2], \"B\":[3,4,5], \"C\":[6,7,8] }\n",
    "```\n",
    "\n",
    "\n",
    "Imagine we are interested in a large number of proteins which we are characterizing biochemically (using robots, or many pipetting thumbs ;). We have the following information:\n",
    "\n",
    "* Protein ID\n",
    "* Protein MW\n",
    "* Protein annotation\n",
    "* Three numerical measurements for an assay\n",
    "\n",
    "How might you structure this data in Python?\n",
    "\n",
    "We will return later to implementing nested data structures."
   ]
  },
  {
   "cell_type": "markdown",
   "metadata": {},
   "source": [
    "```python\n",
    "persons = [\n",
    "        {'name': 'Naomi', 'age': 32, 'sex': 'F', 'status': 'Single'},\n",
    "        {'name': 'Jane', 'age': 29, 'sex': 'F', 'status': 'Married'},\n",
    "        {'name': 'Brian', 'age': 23, 'sex': 'M', 'status': 'Single'}\n",
    "    ]\n",
    "\n",
    "for person in persons:\n",
    "    print(person['name'] + \"\\t\" + str(person['age']) + \"\\t\"\n",
    "    + person['sex'] + \"\\t\" + person['status'])\n",
    "```"
   ]
  },
  {
   "cell_type": "markdown",
   "metadata": {},
   "source": [
    "# Recap of Concepts\n",
    "\n",
    "* components of a \"computer\"\n",
    "* abstraction\n",
    "* encapsulation\n",
    "* functions vs methods\n",
    "* code blocks\n",
    "* object class\n",
    "* iteration\n",
    "* modularity"
   ]
  }
 ],
 "metadata": {
  "kernelspec": {
   "display_name": "Python 3",
   "language": "python",
   "name": "python3"
  },
  "language_info": {
   "codemirror_mode": {
    "name": "ipython",
    "version": 3
   },
   "file_extension": ".py",
   "mimetype": "text/x-python",
   "name": "python",
   "nbconvert_exporter": "python",
   "pygments_lexer": "ipython3",
   "version": "3.6.8"
  }
 },
 "nbformat": 4,
 "nbformat_minor": 1
}
