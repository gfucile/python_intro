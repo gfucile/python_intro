{
 "cells": [
  {
   "cell_type": "markdown",
   "metadata": {},
   "source": [
    "# Mutability\n",
    "\n",
    "You will encounter the term **\"mutable\"** and **\"immutable\"** while reading/discussing Python. Essentially, this means whether an object can be modified/mutated. For example, integers are immutable: you cannot change the number 1 to mean anything else.\n",
    "\n",
    "This concept is important at a fundamental level, particularly with regards to dictionaries. The key-value structure of a dictionary is essentially what is called a **\"hash table\"** or **\"associative array\"**. These are common to most programming languages. These data structures work efficiently due to the use of a hash function which generates an **index** for quickly accessing values linked to keys. Think of it like a phone book, where you can quickly flip to the desired pages using alphabetical sorting. For this indexing to work, keys point to a static space in memory and can't be changed, otherwise the index has to be recreated. Thus, **dictionary keys must be immutable objects**.\n",
    "\n"
   ]
  },
  {
   "cell_type": "markdown",
   "metadata": {},
   "source": [
    "## Which object types are mutable?\n",
    "\n",
    "Common immutable type:  \n",
    "  numbers: integer, float, booleans  \n",
    "  immutable sequences: string, tuple, frozenset\n",
    "    \n",
    "Common mutable type (almost everything else):  \n",
    "   list, set, dict  "
   ]
  },
  {
   "cell_type": "markdown",
   "metadata": {},
   "source": [
    "## Strings\n",
    "\n",
    "Accessing elements and slicing for strings works similarly as in lists. In contrast to lists, Python strings are immutable. However, `a` is not a string: it is a variable with a string value. You can't mutate the string, but can change the value of the variable to a new string:"
   ]
  },
  {
   "cell_type": "code",
   "execution_count": 1,
   "metadata": {},
   "outputs": [
    {
     "name": "stdout",
     "output_type": "stream",
     "text": [
      "<class 'str'>\n",
      "<class 'str'>\n"
     ]
    },
    {
     "data": {
      "text/plain": [
       "'g'"
      ]
     },
     "execution_count": 1,
     "metadata": {},
     "output_type": "execute_result"
    }
   ],
   "source": [
    "a = \"dog\"\n",
    "print(type(a))\n",
    "print(type(a[2]))\n",
    "a[2]"
   ]
  },
  {
   "cell_type": "code",
   "execution_count": 2,
   "metadata": {},
   "outputs": [
    {
     "ename": "TypeError",
     "evalue": "'str' object does not support item assignment",
     "output_type": "error",
     "traceback": [
      "\u001b[0;31m---------------------------------------------------------------------------\u001b[0m",
      "\u001b[0;31mTypeError\u001b[0m                                 Traceback (most recent call last)",
      "\u001b[0;32m<ipython-input-2-85f3c55f9c86>\u001b[0m in \u001b[0;36m<module>\u001b[0;34m()\u001b[0m\n\u001b[0;32m----> 1\u001b[0;31m \u001b[0ma\u001b[0m\u001b[0;34m[\u001b[0m\u001b[0;36m2\u001b[0m\u001b[0;34m]\u001b[0m \u001b[0;34m=\u001b[0m \u001b[0;34m\"t\"\u001b[0m\u001b[0;34m\u001b[0m\u001b[0;34m\u001b[0m\u001b[0m\n\u001b[0m",
      "\u001b[0;31mTypeError\u001b[0m: 'str' object does not support item assignment"
     ]
    }
   ],
   "source": [
    "a[2] = \"t\""
   ]
  },
  {
   "cell_type": "markdown",
   "metadata": {},
   "source": [
    "## Tuples\n",
    "\n",
    "Mutability is also an important concept at a functional level in Python. In some cases, it is safer or otherwise optimal to use data structures which can't be modified. \n",
    "\n",
    "The tuple data container is also like a list, however tuples are immutable. \n",
    "\n",
    "```python\n",
    "nameTuple = (\"Curly\",\"Larry\",\"Moe\")\n",
    "\n",
    "print(nameTuple[0])\n",
    "\n",
    "nameTuple[0] = \"Harry\"\n",
    "```"
   ]
  },
  {
   "cell_type": "markdown",
   "metadata": {},
   "source": [
    "As a tuple is immutable, it does not support item assignment. In contrast, elements in a list can be altered individually."
   ]
  },
  {
   "cell_type": "markdown",
   "metadata": {},
   "source": [
    "# Variables as References\n",
    "\n",
    "In Python, objects are passed as **references**. This means that a variable is only referring to the object as a particular space in memory. Consider the following:\n",
    "\n",
    "```python\n",
    "varA = list(range(10))\n",
    "\n",
    "varB = varA\n",
    "\n",
    "varB[0] = 999\n",
    "\n",
    "print(varA)\n",
    "```"
   ]
  },
  {
   "cell_type": "markdown",
   "metadata": {},
   "source": [
    "In the above example, varA and varB are different references pointing to the same object in memory space. \n",
    "\n",
    "You can make independent copies of variables, thus creating a new space in memory for the copy:\n",
    "\n",
    "```python\n",
    "import copy\n",
    "\n",
    "varA = list(range(10))\n",
    "\n",
    "varB = copy.copy(varA)\n",
    "\n",
    "varB[0] = 999\n",
    "\n",
    "print(varA)\n",
    "print(varB)\n",
    "```\n"
   ]
  },
  {
   "cell_type": "markdown",
   "metadata": {},
   "source": [
    "Note that the above copying is **\"shallow\"** - this won't work for nested structures. To do this, you need to use the deepcopy method: \n",
    "\n",
    "```python\n",
    "import copy\n",
    "\n",
    "nest1 = { \"A\":[0,1,2], \"B\":[3,4,5], \"C\":[6,7,8] }\n",
    "\n",
    "nest2 = copy.copy(nest1)\n",
    "\n",
    "nest3 = copy.deepcopy(nest1)\n",
    "\n",
    "nest1['A'][0] = 999\n",
    "```"
   ]
  }
 ],
 "metadata": {
  "kernelspec": {
   "display_name": "Python 3",
   "language": "python",
   "name": "python3"
  },
  "language_info": {
   "codemirror_mode": {
    "name": "ipython",
    "version": 3
   },
   "file_extension": ".py",
   "mimetype": "text/x-python",
   "name": "python",
   "nbconvert_exporter": "python",
   "pygments_lexer": "ipython3",
   "version": "3.6.8"
  }
 },
 "nbformat": 4,
 "nbformat_minor": 1
}
