{
 "cells": [
  {
   "cell_type": "markdown",
   "metadata": {},
   "source": [
    "# Regular Expressions in Python\n",
    "\n",
    "\"Regular expressions\" are used to identify patterns. There is an extensive library of functions for this purpose in the module ```re```. The syntax for regular expressions are quite distinct from the rest of Python, acting as a sort-of mini-language within Python.\n",
    "\n",
    "The types of questions you can address with regular expressions include: \"Does this string match a pattern?\", \"Where and how often does this pattern appear in a string?\". You can also use regular expressions to split or extract parts of a string.\n",
    "\n",
    "For a more thorough description with examples check out the documentation:\n",
    "\n",
    "https://docs.python.org/3/howto/regex.html\n",
    "https://docs.python.org/3.3/library/re.html\n",
    "\n",
    "\n",
    "There are many ways to work with regular expressions. In general, you must first \"compile\" the pattern into a pattern object. This pattern object can then be used to search a string. There are two ways to compile the regular expression:"
   ]
  },
  {
   "cell_type": "code",
   "execution_count": 1,
   "metadata": {},
   "outputs": [
    {
     "name": "stdout",
     "output_type": "stream",
     "text": [
      "<class '_sre.SRE_Pattern'>\n",
      "<class 'str'>\n"
     ]
    }
   ],
   "source": [
    "import re\n",
    "\n",
    "motif = re.compile(\"CCTCGA|GCTCGA\")\n",
    "print(type(motif))\n",
    "\n",
    "motif = r\"CCTCGA|GCTCGA\"\n",
    "print(type(motif))"
   ]
  },
  {
   "cell_type": "code",
   "execution_count": 2,
   "metadata": {},
   "outputs": [
    {
     "name": "stdout",
     "output_type": "stream",
     "text": [
      "['__class__', '__copy__', '__deepcopy__', '__delattr__', '__dir__', '__doc__', '__eq__', '__format__', '__ge__', '__getattribute__', '__gt__', '__hash__', '__init__', '__init_subclass__', '__le__', '__lt__', '__ne__', '__new__', '__reduce__', '__reduce_ex__', '__repr__', '__setattr__', '__sizeof__', '__str__', '__subclasshook__', 'findall', 'finditer', 'flags', 'fullmatch', 'groupindex', 'groups', 'match', 'pattern', 'scanner', 'search', 'split', 'sub', 'subn']\n"
     ]
    }
   ],
   "source": [
    "motif = re.compile(\"CCTCGA|GCTCGA\")\n",
    "print(dir(motif))"
   ]
  },
  {
   "cell_type": "markdown",
   "metadata": {},
   "source": [
    "In regex, the pipe means \"or\". Other regex-language specific language includes square brackets to indicate \"one of\":"
   ]
  },
  {
   "cell_type": "code",
   "execution_count": null,
   "metadata": {
    "collapsed": true
   },
   "outputs": [],
   "source": [
    "motif = re.compile('[CG]CTCGA')"
   ]
  },
  {
   "cell_type": "markdown",
   "metadata": {},
   "source": [
    "The compiled regex can now be used to search a string for a match:"
   ]
  },
  {
   "cell_type": "code",
   "execution_count": null,
   "metadata": {
    "collapsed": true
   },
   "outputs": [],
   "source": [
    "import re\n",
    "\n",
    "#motif = re.compile('[CG]CTCGA')\n",
    "motif = re.compile('CCTCGA|GCTCGA')\n",
    "\n",
    "mySeq = \"GTGCCCCTCGAGAGGAGGGCGCGCGCCGCGCGCTCGACGCGATCGGCGCTCAGCGAGCGAGCTCCTCGAAGCGATCCGCGCGCGCT\"\n",
    "\n",
    "m = motif.search(mySeq)\n",
    "\n",
    "print(type(motif))\n",
    "print(type(m))\n",
    "print(dir(m))"
   ]
  },
  {
   "cell_type": "code",
   "execution_count": null,
   "metadata": {
    "collapsed": true
   },
   "outputs": [],
   "source": [
    "print(m)\n",
    "print(m.span())\n",
    "print(m.start())\n",
    "print(m.end())"
   ]
  },
  {
   "cell_type": "code",
   "execution_count": null,
   "metadata": {
    "collapsed": true
   },
   "outputs": [],
   "source": [
    "print(m.group())"
   ]
  },
  {
   "cell_type": "markdown",
   "metadata": {},
   "source": [
    "This is helpful, but it clearly isn't finding all of the matches for our motif/pattern. The search method only returns the first match. To find all matches, one uses the ```findall``` method:"
   ]
  },
  {
   "cell_type": "code",
   "execution_count": null,
   "metadata": {
    "collapsed": true
   },
   "outputs": [],
   "source": [
    "import re\n",
    "\n",
    "motif = re.compile('[CG]CTCGA')\n",
    "\n",
    "mySeq = \"GTGCCCCTCGAGAGGAGGGCGCGCGCCGCGCGCTCGACGCGATCGGCGCTCAGCGAGCGAGCTCCTCGAAGCGATCCGCGCGCGCT\"\n",
    "\n",
    "m = motif.findall(mySeq)\n",
    "    \n",
    "print(type(m))\n",
    "print(type(m[0]))\n",
    "    \n",
    "print(m)"
   ]
  },
  {
   "cell_type": "markdown",
   "metadata": {},
   "source": [
    "The ```findall``` method does indeed find all of the matches, however it only returns a list of the matching subsequences and doesn't return the positions of the match as per the ```search``` method. The method that allows us to do this is ```finditer```:"
   ]
  },
  {
   "cell_type": "code",
   "execution_count": 1,
   "metadata": {},
   "outputs": [
    {
     "name": "stdout",
     "output_type": "stream",
     "text": [
      "<class 'callable_iterator'>\n"
     ]
    }
   ],
   "source": [
    "import re\n",
    "\n",
    "#motif = re.compile('[CG]CTCGA')\n",
    "motif = re.compile('CCTCGA|GCTCGA')\n",
    "#motif = re.compile('CC+T')\n",
    "\n",
    "mySeq = \"GTGCCCCTCGAGAGGAGGGCGCGCGCCGCGCGCTCGACGCGATCGGCGCTCAGCGAGCGAGCTCCTCGAAGCGATCCGCGCGCGCT\"\n",
    "\n",
    "m = motif.finditer(mySeq)\n",
    "    \n",
    "print(type(m))"
   ]
  },
  {
   "cell_type": "code",
   "execution_count": 2,
   "metadata": {},
   "outputs": [
    {
     "name": "stdout",
     "output_type": "stream",
     "text": [
      "<class '_sre.SRE_Match'>\n",
      "(5, 11)\n",
      "CCTCGA\n",
      "<class '_sre.SRE_Match'>\n",
      "(31, 37)\n",
      "GCTCGA\n",
      "<class '_sre.SRE_Match'>\n",
      "(63, 69)\n",
      "CCTCGA\n"
     ]
    }
   ],
   "source": [
    "for match in m:\n",
    "    \n",
    "    print(type(match))\n",
    "    print(match.span())\n",
    "    print(match.group())"
   ]
  },
  {
   "cell_type": "code",
   "execution_count": null,
   "metadata": {
    "collapsed": true
   },
   "outputs": [],
   "source": [
    "for match in m:\n",
    "    \n",
    "    print(str(match.span()[0]) + \"\\t\" + str(match.span()[1]) + \"\\t\" + match.group())"
   ]
  },
  {
   "cell_type": "markdown",
   "metadata": {},
   "source": [
    "GTGCC\\__CCTCGA\\__GAGGAGGGCGCGCGCCGCGC**GCTCGA**CGCGATCGGCGCTCAGCGAGCGAGCT**CCTCGA**AGCGATCCGCGCGCGCT"
   ]
  },
  {
   "cell_type": "code",
   "execution_count": null,
   "metadata": {
    "collapsed": true
   },
   "outputs": [],
   "source": [
    "# recall that iterator objects can be \"exhausted\"\n",
    "m = motif.finditer(mySeq)\n",
    "\n",
    "for match in m:\n",
    "    \n",
    "    print(str(match.span()[0]) + \"\\t\" + str(match.span()[0]) + \"\\t\" + match.group())"
   ]
  },
  {
   "cell_type": "markdown",
   "metadata": {},
   "source": [
    "If we want to know the number of matches from finditer():"
   ]
  },
  {
   "cell_type": "code",
   "execution_count": null,
   "metadata": {
    "collapsed": true
   },
   "outputs": [],
   "source": [
    "print(sum(1 for _ in motif.finditer(mySeq)))"
   ]
  },
  {
   "cell_type": "code",
   "execution_count": null,
   "metadata": {
    "collapsed": true
   },
   "outputs": [],
   "source": [
    "print(sum(1 for _ in re.finditer(r\"CCTCGA|GCTCGA\", mySeq)))"
   ]
  },
  {
   "cell_type": "markdown",
   "metadata": {},
   "source": [
    "Note that calling a callable iterator exhausts the data:"
   ]
  },
  {
   "cell_type": "code",
   "execution_count": null,
   "metadata": {
    "collapsed": true
   },
   "outputs": [],
   "source": [
    "motif = re.compile('CC+T')\n",
    "\n",
    "mySeq = \"GTGCCCCTCGAGAGGAGGGCGCGCGCCGCGCGCTCGACGCGATCGGCGCTCAGCGAGCGAGCTCCTCGAAGCGATCCGCGCGCGCT\"\n",
    "\n",
    "m = motif.finditer(mySeq)\n",
    "\n",
    "print(sum(1 for _ in m))\n",
    "\n",
    "for match in m:\n",
    "    \n",
    "    print(match.span())\n",
    "    print(match.group())"
   ]
  },
  {
   "cell_type": "markdown",
   "metadata": {},
   "source": [
    "There is a concept of \"groups\" in Python regex. A regular expression can be sub-divided into components or \"groups\" using round brackets. For example, we can define a regex of three groups, where the first group matches a specific string, second group matches a space, and third group matches any sequence of letters:"
   ]
  },
  {
   "cell_type": "code",
   "execution_count": null,
   "metadata": {
    "collapsed": true
   },
   "outputs": [],
   "source": [
    "(\\W)(\\w+)"
   ]
  },
  {
   "cell_type": "code",
   "execution_count": null,
   "metadata": {
    "collapsed": true
   },
   "outputs": [],
   "source": [
    "MyRe = r\"(Arabidopsis)(\\s)(\\w+)\"\n",
    "\n",
    "myString = \"Arabidopsis thaliana\"\n",
    "\n",
    "myMatch = re.search(MyRe, myString)\n",
    "\n",
    "print(myMatch)\n",
    "print(type(myMatch))"
   ]
  },
  {
   "cell_type": "markdown",
   "metadata": {},
   "source": [
    "We can access the groups separately using the group() method on the SRE_Match object:"
   ]
  },
  {
   "cell_type": "code",
   "execution_count": null,
   "metadata": {
    "collapsed": true
   },
   "outputs": [],
   "source": [
    "# all matches together:\n",
    "print(myMatch.group(0))\n",
    "\n",
    "# print the first group:\n",
    "print(myMatch.group(1))\n",
    "\n",
    "# print the second group:\n",
    "print(myMatch.group(2))\n",
    "\n",
    "# print the third group:\n",
    "print(myMatch.group(3))"
   ]
  },
  {
   "cell_type": "markdown",
   "metadata": {},
   "source": [
    "## overview of re methods\n",
    "\n",
    "Method | Description\n",
    "-------------------|----------------   \n",
    "re.search() | Detect the presence of a pattern\n",
    "re.findall() | Returns a list of all matching subsequences\n",
    "re.finditer() | Similar to findall(), but returns iterator with position data as per search\n",
    "re.match() |  Like re.search but only if pattern matches the entire string\n",
    "re.sub(query, replacement, string) | Make *all* substitutions in a string    \n",
    "re.split() | Split a string according to a pattern"
   ]
  },
  {
   "cell_type": "code",
   "execution_count": null,
   "metadata": {
    "collapsed": true
   },
   "outputs": [],
   "source": [
    "print(type(re))"
   ]
  },
  {
   "cell_type": "code",
   "execution_count": null,
   "metadata": {
    "collapsed": true
   },
   "outputs": [],
   "source": [
    "MyString = \"23rd May 2000\"\n",
    "re.sub(\"May\", \"July\", MyString)"
   ]
  },
  {
   "cell_type": "code",
   "execution_count": null,
   "metadata": {
    "collapsed": true
   },
   "outputs": [],
   "source": [
    "MyString = \"Well hello hello hello\"\n",
    "print(re.sub(\"hello\", \"ciao\", MyString, 1))\n",
    "print(re.sub(\"hello\", \"ciao\", MyString, 2))"
   ]
  },
  {
   "cell_type": "markdown",
   "metadata": {},
   "source": [
    "Groups can be referenced using (yet another) special syntax:"
   ]
  },
  {
   "cell_type": "code",
   "execution_count": null,
   "metadata": {
    "collapsed": true
   },
   "outputs": [],
   "source": [
    "re.sub(r\"\", r\"\\1\", \"\")"
   ]
  },
  {
   "cell_type": "code",
   "execution_count": null,
   "metadata": {
    "collapsed": true
   },
   "outputs": [],
   "source": [
    "re.sub(r\"(\\d+\\.\\d{3})(\\d+)\", r\"\\1\", \"34.73322532\")"
   ]
  },
  {
   "cell_type": "code",
   "execution_count": null,
   "metadata": {
    "collapsed": true
   },
   "outputs": [],
   "source": [
    "re.sub(r\"(\\d+\\.\\d{3})(\\d+)\", r\"\\2\", \"34.73322532\")"
   ]
  },
  {
   "cell_type": "markdown",
   "metadata": {},
   "source": [
    "Removing a duplicated word:"
   ]
  },
  {
   "cell_type": "code",
   "execution_count": null,
   "metadata": {
    "collapsed": true
   },
   "outputs": [],
   "source": [
    "re.sub(r\"(\\b[a-z]+)( \\1)\", r\"\\1\", \"cat in the the hat\")"
   ]
  },
  {
   "cell_type": "code",
   "execution_count": null,
   "metadata": {
    "collapsed": true
   },
   "outputs": [],
   "source": [
    "re.sub(r\"(\\b[a-z])( \\1)\", r\"\\1\", \"a a cat in the the hat\")"
   ]
  },
  {
   "cell_type": "markdown",
   "metadata": {},
   "source": [
    "Matching at the beginning and end of a string:"
   ]
  },
  {
   "cell_type": "code",
   "execution_count": null,
   "metadata": {
    "collapsed": true
   },
   "outputs": [],
   "source": [
    "MyFormat = r\"(\\d{2}\\s\\w{3}\\s\\d{4})\"\n",
    "\n",
    "string1 = \"114 Aug 20166\"\n",
    "m1 = re.search(MyFormat, string1)\n",
    "print(m1)\n",
    "\n",
    "string2 = \"21 Aug 1234\"\n",
    "m2 = re.search(MyFormat, string2)\n",
    "print(m2)"
   ]
  },
  {
   "cell_type": "code",
   "execution_count": null,
   "metadata": {
    "collapsed": true
   },
   "outputs": [],
   "source": [
    "MyFormat2 = r\"(^\\d{2}\\s\\w{3}\\s\\d{4})\"\n",
    "\n",
    "string1 = \"114 Aug 20166\"\n",
    "m1v2 = re.search(MyFormat2, string1)\n",
    "print(m1v2)\n",
    "\n",
    "string2 = \"21 Aug 1234\"\n",
    "m2v2 = re.search(MyFormat2, string2)\n",
    "print(m2v2)"
   ]
  },
  {
   "cell_type": "code",
   "execution_count": null,
   "metadata": {
    "collapsed": true
   },
   "outputs": [],
   "source": [
    "MyFormat3 = r\"(\\d{2}\\s\\w{3}\\s\\d{4}$)\"\n",
    "\n",
    "string1 = \"114 Aug 20166\"\n",
    "m1v3 = re.search(MyFormat3, string1)\n",
    "print(m1v3)\n",
    "\n",
    "string2 = \"21 Aug 1234\"\n",
    "m2v3 = re.search(MyFormat3, string2)\n",
    "print(m2v3)"
   ]
  },
  {
   "cell_type": "markdown",
   "metadata": {},
   "source": [
    "## Exercise 1\n",
    "\n",
    "Have a closer look at the syntax for regular expression logic. For example, one can use ```or``` statements using the pipe character:\n",
    "\n",
    "```python\n",
    "motif = re.compile('[CG]CTCGA|GCGCGC')\n",
    "```\n",
    "\n",
    "Write a function that will find the occurences and positions of the motif CAGCCGCG in the following gapped sequences, and return the gapped position of the match (*ie* don't cheat and simply ignore the gaps):\n",
    "\n",
    "CCA--G-C---A--GCCG---C-GG--TA-AT\n",
    "\n",
    "CGCA--G-C---A--GCCG---C-GG--TA-AT\n",
    "\n",
    "TGCA--G-C---A--GCCG---C-GG--TA-AT\n",
    "\n",
    "---CTTGCTCGT---C---A------GC-CGC----------G-----"
   ]
  },
  {
   "cell_type": "markdown",
   "metadata": {},
   "source": [
    "## Exercise 2\n",
    "\n",
    "Revisit Exercise 12 from the \"Working with Files\" notebook. Use regular expressions to print the gene identifier in the FASTA formatted UTR sequences. Your script should produce the following:\n",
    "\n",
    "<pre>\n",
    ">ENSMUSG00000026565\n",
    "CTGCTGCTGCTGCCGCCGCGGCTGAACTCTCATCTTGACTCGCTGCTC\n",
    ">ENSMUSG00000026565\n",
    "CTGCTGCTGCTGCCGCCGCGGCTGAACTCTCATCTTGACTCGCTGCTC\n",
    ">ENSMUSG00000026565\n",
    "CTGCTGCTGCTGCCGCCGCGGCTGAACTCTCATCTTGACTCGCTGCTCCTCC\n",
    ">ENSMUSG00000026565\n",
    "CTGCTGCTGCTGCCGCCGCGGCTGAACTCTCATCTTGACTCGCTGCTCCTCCGTCCG\n",
    ">ENSMUSG00000026565\n",
    "TTTGAAT\n",
    ">ENSMUSG00000026565\n",
    "TTTGAATATTTTAACCAAAATCGCCCGGTCGATAAACCCTCCCTCGCTCCCGCTCC\n",
    ">ENSMUSG00000026564\n",
    "TATTTGACAGCATATCAATTTAATTGAAAAGAAGCCATGATAGTCAAGCATTGGCAGGGAGAGGCCAGAATCACAACAGAATGGATCACCTGGGTCTCATTGCGAAACCTCAATGAAGAGAACCACAGCCTGCAAGTCAGGTCTTTCTCAGTGGCTTTGTAGACTCACTTCTCCACTCTGTGGTGGACACTACCAAATGCAGAAGGGAAACAGGAAAGCTTAGAAGGGAAACAGGAAAGCTTAGAGGGCCTTTGGTGATAGAAAGTGTAAGCTGGTCCAGAATTTGGGGCTCGCATGAATGGCTCTTGTCTCTTCTCCACCCTACTGTCCAGGCCCTTTCTACTTGGATGCTTGCATTTTTGCCCATATGGAAGAGCCTGCATAACCCTTGGCAGGTCATGGTAAGCTGTTCCCAAGCCCAGTGTTAAATGGCTTCTTTCCGTGTTCCCAGTGTCTCCAAGGAGGGCCTCATTCCGC\n",
    ">ENSMUSG00000026564\n",
    "GACAGCATATCAATTTAATTGAAAAGAAGCCATGATAGTCAAGCATTGGCAGGGAGAGGCCAGAATCACAACAGAATGGATCACCTGGGTCTCATTGCGAAACCTCAATGAAGAGAACCACAGCCTGCAAGTCAGGTCTTTCTCAGTGGCTTTGTAGACTCACTTCTCCACTCTGTGGTGGACACTACCAAATGCAGAAGGGAAACAGGAAAGCTTAGAAGGGAAACAGGAAAGCTTAGAGGGCCTTTGGTGATAGAAAGTGTAAGCTGGTCCAGAATTTGGGGCTCGCATGAATGGCTCTTGTCTCTTCTCCACCCTACTGTCCAGGCCCTTTCTACTTGGATGCTTGCATTTTTGCCCATATGGAAGAGCCTGCATAACCCTTGGCAGGTCATGGTAAGCTGTTCCCAAGCCCAGTGTTAAATGGCTTCTTTCCGTGTTCCCAGTGTCTCCAAGGAGGGCCTCATTCCGC\n",
    "</pre>"
   ]
  },
  {
   "cell_type": "markdown",
   "metadata": {},
   "source": [
    "# Sources\n",
    "\n",
    "- [Regular Expression HOWTO (Python doc)](https://docs.python.org/2/howto/regex.html#regex-howto)\n",
    "- [Software Carpentry v4](http://software-carpentry.org/v4/regexp/index.html)\n",
    "- [Haddock & Dunn. Practical Computing for Biologists. Sinauer Associates 2011.](http://practicalcomputing.org))\n",
    "- [Python for Biologists](http://pythonforbiologists.com/index.php/introduction-to-python-for-biologists/regular-expressions/)\n",
    "\n",
    "# Links\n",
    "\n",
    "**Online tools to try regular expressions**  \n",
    "- [http://regex101.com/](http://regex101.com/)   \n",
    "- [http://www.regexr.com/](http://www.regexr.com/)   \n",
    "- [https://www.debuggex.com/](https://www.debuggex.com/)  \n",
    "\n",
    "**Cheat Sheets**  \n",
    "- [CheatSheet from Practical Computing Biologists](http://practicalcomputing.org/files/PCfB_Appendices.pdf)\n",
    "\n",
    "**Regular expression in other languages**  \n",
    "- [in R](http://en.wikibooks.org/wiki/R_Programming/Text_Processing#Functions_which_use_regular_expressions_in_R)  \n",
    "- [using sed](http://www.grymoire.com/Unix/Sed.html#uh-4)\n",
    "\n",
    "**More on regular expressions**\n",
    "- [5 Videos on Software Carpentry](http://software-carpentry.org/v4/regexp/index.html)\n",
    "- [Sequence Analysis with RegExps](http://www.dalkescientific.com/writings/NBN/slides/regexps.pdf)"
   ]
  }
 ],
 "metadata": {
  "kernelspec": {
   "display_name": "Python 3",
   "language": "python",
   "name": "python3"
  },
  "language_info": {
   "codemirror_mode": {
    "name": "ipython",
    "version": 3
   },
   "file_extension": ".py",
   "mimetype": "text/x-python",
   "name": "python",
   "nbconvert_exporter": "python",
   "pygments_lexer": "ipython3",
   "version": "3.6.8"
  }
 },
 "nbformat": 4,
 "nbformat_minor": 1
}
