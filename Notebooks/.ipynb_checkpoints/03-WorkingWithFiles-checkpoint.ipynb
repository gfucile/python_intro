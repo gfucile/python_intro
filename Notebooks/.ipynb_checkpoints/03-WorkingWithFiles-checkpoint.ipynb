{
 "cells": [
  {
   "cell_type": "markdown",
   "metadata": {},
   "source": [
    "# Working with files\n",
    "\n",
    "You will often use Python to work with data stored in a separate file. A few important points to consider:\n",
    "\n",
    "* do I need to read the entire dataset/file into memory?\n",
    "* are there concurrency issues?\n",
    "\n",
    "A simple syntax for working with files is as folliows:\n",
    "\n",
    "```python\n",
    "stream = open(filename,mode)\n",
    "\n",
    "for line in stream:\n",
    "    # do something\n",
    "\n",
    "stream.close()\n",
    "```\n",
    "\n"
   ]
  },
  {
   "cell_type": "markdown",
   "metadata": {},
   "source": [
    "Another way to read a file line by line is the `readline()` method:\n",
    "\n",
    "```python\n",
    "stream = open(filename,mode)\n",
    "\n",
    "firstLine = stream.readline()\n",
    "secondLine = stream.readline()\n",
    "\n",
    "stream.close()\n",
    "```"
   ]
  },
  {
   "cell_type": "markdown",
   "metadata": {},
   "source": [
    "You can also use the read method to extract a specific number of bytes. For example:\n",
    "\n",
    "```python\n",
    "stream = open(filename,mode)\n",
    "\n",
    "twoBytes = stream.read(2)\n",
    "\n",
    "stream.close()\n",
    "```"
   ]
  },
  {
   "cell_type": "markdown",
   "metadata": {},
   "source": [
    "**It is very important to close your file after you've opened it**. Attempting to work with the same memory space concurrently can cause data corruption and hardware faults.\n",
    "\n",
    "A more \"Pythonic\", contemporary style:\n",
    "\n",
    "```python\n",
    "with open(filename, mode) as FILEHANDLE:\n",
    "\n",
    "    for line in FILEHANDLE:\n",
    "    \n",
    "        #do something\n",
    "```\n",
    "\n",
    "Note here that there is no explicit call to close. This elegant `with` construction takes care of it for you!"
   ]
  },
  {
   "cell_type": "markdown",
   "metadata": {},
   "source": [
    "**What syntax does one use to open a file for reading? For writing?**\n",
    "\n",
    "**What if the file doesn't already exist?**\n",
    "\n",
    "https://docs.python.org/3/tutorial/inputoutput.html\n",
    "\n",
    "The \"modes\" for `open()` are essentially the sams as those for `fopen()` in C:\n",
    "\n",
    "http://www.manpagez.com/man/3/fopen/"
   ]
  },
  {
   "cell_type": "markdown",
   "metadata": {},
   "source": [
    "You can open more than one file object concurrently, which is useful for reading and writing to separate files:\n",
    "\n",
    "```python\n",
    "with open('input.txt', 'r') as IN, open('output.txt', 'w') as OUT:\n",
    "\n",
    "    dosomething()\n",
    "```"
   ]
  },
  {
   "cell_type": "markdown",
   "metadata": {},
   "source": [
    "# Exercise 10\n",
    "\n",
    "Using the tab-delimited annotation file \"dictyBase_17022017_mod.gff\", extract only the first 10 features and print these to a new file. \n",
    "\n",
    "Before you begin, be aware that printing many lines of text will consume a lot of memory and may cause your browser to stall or crash. As you're building and debugging your code, you can exit a loop using the break command:\n",
    "\n",
    "```python\n",
    "for line in IN:\n",
    "\n",
    "    print(line)\n",
    "    break\n",
    "```\n",
    "\n",
    "**Which method can be used to remove the newline character from a file?**"
   ]
  },
  {
   "cell_type": "markdown",
   "metadata": {},
   "source": [
    "# Exercise 11\n",
    "\n",
    "Using the same Dictyostelium GFF, report all of the feature entries for exons on chromosome 1 between coordinates 40000 and 50000.\n",
    "\n",
    "Column 1: chromosome\n",
    "Column 2: data source\n",
    "Column 3: feature type\n",
    "Column 4: feature start coordinate\n",
    "Column 5: feature end coordinate\n",
    "\n",
    "hint: use `split()`"
   ]
  },
  {
   "cell_type": "markdown",
   "metadata": {},
   "source": [
    "# Exercise 12\n",
    "\n",
    "Read the tab-delimited annotation file \"GRCm38_chr1.gtf\". It has the following 9-column format desribing one feature entry per line (http://www.ensembl.org/info/website/upload/gff.html):\n",
    "\n",
    "1\"\\t\"havana\"\\t\"transcript\"\\t\"3073253\"\\t\"3074322\"\\t\".\"\\t\"+\"\\t\".\"\\t\"gene_biotype \"TEC\"; gene_id \"ENSMUSG00000102693\"; gene_name \"4933401J01Rik\"; gene_source \"havana\"; gene_version \"1\"; havana_gene \"OTTMUSG00000049935\"; havana_gene_version \"1\"; havana_transcript \"OTTMUST00000127109\"; havana_transcript_version \"1\"; tag \"basic\"; transcript_biotype \"TEC\"; transcript_id \"ENSMUST00000193812\"; transcript_name \"4933401J01Rik-001\"; transcript_source \"havana\"; transcript_support_level \"NA\"; transcript_version \"1\"; tss_id \"TSS81250\";\n",
    "\n",
    "Extract the the sequence for every UTR interval between coordinates 166000000 and 166100000 using the FASTA file \"GRCm38_chr1.fa\". The UTR sequences should be returned in FASTA format, using the start and end coordinates and UTR length as the FASTA header.\n",
    "\n",
    "**Consider writing pseudo-code before you begin writing actual code**"
   ]
  },
  {
   "cell_type": "markdown",
   "metadata": {},
   "source": [
    "# Exercise 13\n",
    "\n",
    "Sometimes FASTA files have the sequence data separated by some number of characters per line, for example \"GRCm38_chr1_100pl.fa\". Repeat Exercise 12 using this line-separated FASTA file."
   ]
  },
  {
   "cell_type": "markdown",
   "metadata": {},
   "source": [
    "# A Brief Intro to Biopython\n",
    "\n",
    "Via Wikipedia (https://en.wikipedia.org/wiki/Biopython):\n",
    "\n",
    "\"The Biopython Project is an open-source collection of non-commercial Python tools for computational biology and bioinformatics, created by an international association of developers. It contains classes to represent biological sequences and sequence annotations, and it is able to read and write to a variety of file formats. It also allows for a programmatic means of accessing online databases of biological information, such as those at NCBI. Separate modules extend Biopython's capabilities to sequence alignment, protein structure, population genetics, phylogenetics, sequence motifs, and machine learning. Biopython is one of a number of Bio projects designed to reduce code duplication in computational biology.\"\n",
    "\n",
    "You can install Biopython into the desired environment using the Anaconda Navigator GUI. Alternatively, you can install from the command line using something like the following:\n",
    "\n",
    "```\n",
    "conda info --envs\n",
    "\n",
    "source activate <py-env>  # for Windows: activate <py-env> \n",
    "\n",
    "conda install -c anaconda biopython\n",
    "\n",
    "# more info on conda-managed environments here: https://conda.io/docs/using/envs.html\n",
    "```"
   ]
  },
  {
   "cell_type": "markdown",
   "metadata": {},
   "source": [
    "Have a look at the Biopython documentation here:\n",
    "\n",
    "http://biopython.org/wiki/Documentation\n",
    "\n",
    "Many Python modules include much more code than you will actually use in any one script. This is particularly true for huge packages like Biopython. Usually, you only need to import a small section of the code. The syntax looks something like:\n",
    "\n",
    "```python\n",
    "from Bio import SeqIO\n",
    "```\n",
    "\n",
    "Bio is the name for the Biopython module in its entirety. SeqIO is one of the \"names\" within the module (you can read more about namespaces, and scope here: ). So in the above syntax, you are only importing the code in the namesapce of SeqIO. Thus the related functions are accessed using the dot (.) notation.\n",
    "\n",
    "```python\n",
    "with open('GRCm38_chr1_100pl.fa', 'r') as FASTA:\n",
    "    \n",
    "    for record in SeqIO.parse(FASTA, \"fasta\"):\n",
    "    \n",
    "        # do something with record.id, record.seq, etc\n",
    "```\n",
    "\n",
    "The documentation for SeqIO is (currently) here: \n",
    "\n",
    "\n",
    "You can load multiple sections of a module simultanesously:\n",
    "\n",
    "```python \n",
    "from Bio.Phylo.PAML import codeml, baseml, yn00\n",
    "```\n",
    "\n",
    "Much of the Biopython functionality is included in the \"cookbook\" (http://biopython.org/DIST/docs/tutorial/Tutorial.html) or in domain specific documentation, eg \n",
    "http://biopython.org/wiki/SeqIO \n",
    "http://biopython.org/wiki/PAML "
   ]
  },
  {
   "cell_type": "markdown",
   "metadata": {},
   "source": [
    "Another very interesting project to keep an eye on is [scikit-bio](http://scikit-bio.org/). Parsing a FASTA file with scikit-bio might look something like the following:"
   ]
  },
  {
   "cell_type": "markdown",
   "metadata": {},
   "source": [
    "```python\n",
    "import skbio.io\n",
    "\n",
    "for seq in skbio.io.read(\"myseqs.fasta\", format=\"fasta\"):\n",
    "\n",
    "    print(seq.metadata[\"id\"])\n",
    "    print(str(len(seq)))\n",
    "    print(seq)\n",
    "```"
   ]
  },
  {
   "cell_type": "markdown",
   "metadata": {},
   "source": [
    "# Exercise 14\n",
    "\n",
    "Repeat exercise 12/13 using Biopython or scikit-bio to parse your fasta file."
   ]
  },
  {
   "cell_type": "markdown",
   "metadata": {},
   "source": [
    "# Exercise 15\n",
    "\n",
    "The goal of this exercise is to reconstruct transcripts from a GTF file. Read the tab-delimited annotation file \"GRCm38_chr1.gtf\". Determine all of the exons for each transcript (by transcript ID), and then concatenate these to the transcript model sequence from the FASTA file \"GRCm38_chr1.fa\". For simplicity, limit this exercise to + strand transcript models.\n",
    "\n",
    "Hint: if you are using multidimensional dicts and running into key errors (uninitialized keys), consider using the `try` and `except` construction:\n",
    "\n",
    "```python\n",
    "try:\n",
    "\n",
    "    #try to populate your multi-dimensional dict\n",
    "    \n",
    "except KeyError:\n",
    "\n",
    "    #populate your multi-dimensional dict\n",
    "```\n",
    "\n",
    "You can read more about exceptions in Python here: https://docs.python.org/3/library/exceptions.html\n",
    "\n",
    "Alternatively, you can consider using the following custom class of dict (uses \"autovivification\"):\n",
    "\n",
    "```python\n",
    "class Vividict(dict):\n",
    "    def __missing__(self, key):\n",
    "        value = self[key] = type(self)()\n",
    "        return value\n",
    "```"
   ]
  }
 ],
 "metadata": {
  "kernelspec": {
   "display_name": "Python 3",
   "language": "python",
   "name": "python3"
  },
  "language_info": {
   "codemirror_mode": {
    "name": "ipython",
    "version": 3
   },
   "file_extension": ".py",
   "mimetype": "text/x-python",
   "name": "python",
   "nbconvert_exporter": "python",
   "pygments_lexer": "ipython3",
   "version": "3.6.8"
  }
 },
 "nbformat": 4,
 "nbformat_minor": 1
}
